{
  "nbformat": 4,
  "nbformat_minor": 0,
  "metadata": {
    "colab": {
      "name": "a10826013-選擇題.ipynb",
      "provenance": [],
      "include_colab_link": true
    },
    "kernelspec": {
      "name": "python3",
      "display_name": "Python 3"
    }
  },
  "cells": [
    {
      "cell_type": "markdown",
      "metadata": {
        "id": "view-in-github",
        "colab_type": "text"
      },
      "source": [
        "<a href=\"https://colab.research.google.com/github/shaun5203/computation/blob/master/a10826013_%E9%81%B8%E6%93%87%E9%A1%8C.ipynb\" target=\"_parent\"><img src=\"https://colab.research.google.com/assets/colab-badge.svg\" alt=\"Open In Colab\"/></a>"
      ]
    },
    {
      "cell_type": "code",
      "metadata": {
        "id": "BhmxH0VqvRzV",
        "colab_type": "code",
        "colab": {}
      },
      "source": [
        "選擇題\n",
        "1a\n",
        "2b\n",
        "3d\n",
        "4c\n",
        "5a\n",
        "6a\n",
        "7b\n",
        "8c\n",
        "9a\n",
        "10b\n",
        "11c\n",
        "12a\n",
        "13b\n",
        "14c\n",
        "15d"
      ],
      "execution_count": 0,
      "outputs": []
    }
  ]
}